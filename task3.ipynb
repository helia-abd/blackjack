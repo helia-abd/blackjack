{
 "cells": [
  {
   "cell_type": "markdown",
   "metadata": {},
   "source": [
    "ماژول رندم و شافل و ساختن کارت ها "
   ]
  },
  {
   "cell_type": "code",
   "execution_count": 1,
   "metadata": {},
   "outputs": [],
   "source": [
    "suits=('Hearts','Diamonds','Spads','Clube')\n",
    "ranks=('Two','Three','Four','Five','Six','Seven','Eight','Nine','Ten','Jack','Queen','King','Ace')\n",
    "values = {'Two':2,'Three':3,'Four':4,'Five':5,'Six':6,'Seven':7,'Eight':8,\n",
    "          'Nine':9,'Ten':10,'Jack':10,'Queen':10,'King':10,'Ace':11}\n",
    "import random\n",
    "playing = True"
   ]
  },
  {
   "cell_type": "markdown",
   "metadata": {},
   "source": [
    "ساختن کلاس کارت"
   ]
  },
  {
   "cell_type": "code",
   "execution_count": 2,
   "metadata": {},
   "outputs": [],
   "source": [
    "class Card:\n",
    "    # str name\n",
    "    # rank , suit\n",
    "    \n",
    "    pass"
   ]
  },
  {
   "cell_type": "markdown",
   "metadata": {},
   "source": [
    "ساختن کلاس دسته"
   ]
  },
  {
   "cell_type": "code",
   "execution_count": 3,
   "metadata": {},
   "outputs": [],
   "source": [
    "class Deck:\n",
    "    # 52 cards\n",
    "    # list card\n",
    "    # shuffle \n",
    "    # deal pop & return \n",
    "    # str 52 cards return \n",
    "    pass"
   ]
  },
  {
   "cell_type": "code",
   "execution_count": 4,
   "metadata": {},
   "outputs": [],
   "source": [
    "test_deck = Deck()"
   ]
  },
  {
   "cell_type": "code",
   "execution_count": 5,
   "metadata": {},
   "outputs": [],
   "source": [
    "test_deck.shuffle()"
   ]
  },
  {
   "cell_type": "code",
   "execution_count": 6,
   "metadata": {},
   "outputs": [
    {
     "name": "stdout",
     "output_type": "stream",
     "text": [
      "The deck has: \n",
      "Three of Spads\n",
      "Queen of Hearts\n",
      "Seven of Diamonds\n",
      "Two of Hearts\n",
      "Six of Clube\n",
      "Jack of Spads\n",
      "Ten of Clube\n",
      "King of Spads\n",
      "Nine of Diamonds\n",
      "Three of Diamonds\n",
      "King of Hearts\n",
      "King of Clube\n",
      "Four of Hearts\n",
      "Six of Spads\n",
      "Queen of Clube\n",
      "Ace of Diamonds\n",
      "Ace of Clube\n",
      "Four of Clube\n",
      "Three of Hearts\n",
      "Eight of Hearts\n",
      "Six of Diamonds\n",
      "Seven of Spads\n",
      "Jack of Diamonds\n",
      "Five of Diamonds\n",
      "Eight of Clube\n",
      "Six of Hearts\n",
      "Five of Clube\n",
      "Nine of Hearts\n",
      "Four of Diamonds\n",
      "Ace of Spads\n",
      "Two of Clube\n",
      "Ten of Hearts\n",
      "Nine of Spads\n",
      "Ten of Diamonds\n",
      "Three of Clube\n",
      "Ten of Spads\n",
      "Nine of Clube\n",
      "King of Diamonds\n",
      "Jack of Hearts\n",
      "Queen of Diamonds\n",
      "Seven of Clube\n",
      "Five of Spads\n",
      "Two of Diamonds\n",
      "Jack of Clube\n",
      "Queen of Spads\n",
      "Two of Spads\n",
      "Ace of Hearts\n",
      "Four of Spads\n",
      "Seven of Hearts\n",
      "Five of Hearts\n",
      "Eight of Spads\n",
      "Eight of Diamonds\n"
     ]
    }
   ],
   "source": [
    "print(test_deck)"
   ]
  },
  {
   "cell_type": "code",
   "execution_count": 7,
   "metadata": {},
   "outputs": [],
   "source": [
    "class Hand:\n",
    "    def __init__(self):\n",
    "        self.card =[]\n",
    "        self.value=0\n",
    "        self.aces=0\n",
    "        \n",
    "    def add_card(self,card):\n",
    "        self.card.append(card)\n",
    "        self.value += value[card.rank]\n",
    "            if card.rank ==\"Ace\":\n",
    "                self.aces +=1\n",
    "                \n",
    "    def adjust_for_aces(self):\n",
    "        while self.value>21 and self.aces>0\n",
    "            self.value -= 10\n",
    "            self.aces -= 0\n",
    "    pass"
   ]
  },
  {
   "cell_type": "code",
   "execution_count": 8,
   "metadata": {},
   "outputs": [
    {
     "name": "stdout",
     "output_type": "stream",
     "text": [
      "True\n",
      "King of Hearts\n",
      "10\n",
      "20\n"
     ]
    }
   ],
   "source": [
    "if 2:\n",
    "    print('True')\n",
    "test_deck = Deck()\n",
    "test_deck.shuffle()\n",
    "test_player = Hand()\n",
    "pulled_card = test_deck.deal()\n",
    "print(pulled_card)\n",
    "test_player.add_card(pulled_card)\n",
    "print(test_player.value)\n",
    "test_player.add_card(test_deck.deal())\n",
    "print(test_player.value)"
   ]
  },
  {
   "cell_type": "code",
   "execution_count": 9,
   "metadata": {},
   "outputs": [],
   "source": [
    "class Chips:\n",
    "    # total chips\n",
    "    # win ()\n",
    "    # lose ()\n",
    "    pass"
   ]
  },
  {
   "cell_type": "markdown",
   "metadata": {},
   "source": [
    "تابع گرفتن شرط بندی"
   ]
  },
  {
   "cell_type": "code",
   "execution_count": 10,
   "metadata": {},
   "outputs": [],
   "source": [
    "def take_bet(chips):\n",
    "    while True:\n",
    "        # bet input \n",
    "        # if bet < chips.total <break  return bet\n",
    "        pass"
   ]
  },
  {
   "cell_type": "markdown",
   "metadata": {},
   "source": [
    "تابع درخواست کارت "
   ]
  },
  {
   "cell_type": "code",
   "execution_count": 11,
   "metadata": {},
   "outputs": [],
   "source": [
    "def hit(deck, hand):\n",
    "    # deck.deal > hand.add card \n",
    "    # hand adjust_for_aces\n",
    "    pass"
   ]
  },
  {
   "cell_type": "markdown",
   "metadata": {},
   "source": [
    "تابع تصمیم برای ادامه بازی یا توقف روند کارت گیری"
   ]
  },
  {
   "cell_type": "code",
   "execution_count": 12,
   "metadata": {},
   "outputs": [],
   "source": [
    "def hit_or_stand(deck,hand):\n",
    "    global playing\n",
    "    while True:\n",
    "        # input \n",
    "        # playing True or False\n",
    "        pass"
   ]
  },
  {
   "cell_type": "markdown",
   "metadata": {},
   "source": [
    "توابع بررسی اتمام بازی"
   ]
  },
  {
   "cell_type": "code",
   "execution_count": 13,
   "metadata": {},
   "outputs": [],
   "source": [
    "def show_some(player,dealer):\n",
    "    # one card hidden \n",
    "    # show\n",
    "    pass"
   ]
  },
  {
   "cell_type": "code",
   "execution_count": 14,
   "metadata": {},
   "outputs": [],
   "source": [
    "def show_all(player,dealer):\n",
    "    # show cards\n",
    "    pass"
   ]
  },
  {
   "cell_type": "code",
   "execution_count": 15,
   "metadata": {},
   "outputs": [],
   "source": [
    "def player_busts(player,dealer,chips):\n",
    "    # player and dealer are hand\n",
    "    # >21 --> print()\n",
    "    # lose chips\n",
    "    pass"
   ]
  },
  {
   "cell_type": "code",
   "execution_count": 16,
   "metadata": {},
   "outputs": [],
   "source": [
    "def player_wins(player,dealer,chips):\n",
    "    # player and dealer are hand\n",
    "    # <=> --> print()\n",
    "    # win chips\n",
    "    pass"
   ]
  },
  {
   "cell_type": "code",
   "execution_count": 17,
   "metadata": {},
   "outputs": [],
   "source": [
    "def dealer_busts(player,dealer,chips):\n",
    "    # player and dealer are hand\n",
    "    # >21 --> print()\n",
    "    # win  chips player\n",
    "    pass"
   ]
  },
  {
   "cell_type": "code",
   "execution_count": 18,
   "metadata": {},
   "outputs": [],
   "source": [
    "def dealer_wins(player,dealer,chips):\n",
    "     # player and dealer are hand\n",
    "    #  --> print()\n",
    "    # <=> --> print()\n",
    "    # win  chips player\n",
    "    pass"
   ]
  },
  {
   "cell_type": "code",
   "execution_count": 19,
   "metadata": {},
   "outputs": [],
   "source": [
    "def push(player,dealer):\n",
    "    print('Dealer and player tie! push')"
   ]
  },
  {
   "cell_type": "markdown",
   "metadata": {},
   "source": [
    "بلوک اصلی\n"
   ]
  },
  {
   "cell_type": "code",
   "execution_count": null,
   "metadata": {},
   "outputs": [
    {
     "name": "stdout",
     "output_type": "stream",
     "text": [
      "welcome to Black Jack\n",
      "How many chips would you like to bet?100\n",
      "Dealers hand: \n",
      "One card hidden\n",
      "Seven of Clube\n",
      "\n",
      "\n",
      "Player Hand: \n",
      "Six of Spads\n",
      "Three of Hearts\n",
      "Hit or Stand? Enter  or sh\n",
      "Dealers hand: \n",
      "One card hidden\n",
      "Seven of Clube\n",
      "\n",
      "\n",
      "Player Hand: \n",
      "Six of Spads\n",
      "Three of Hearts\n",
      "Seven of Hearts\n",
      "Hit or Stand? Enter  or sh\n",
      "Dealers hand: \n",
      "One card hidden\n",
      "Seven of Clube\n",
      "\n",
      "\n",
      "Player Hand: \n",
      "Six of Spads\n",
      "Three of Hearts\n",
      "Seven of Hearts\n",
      "Jack of Spads\n",
      "Bust Player\n",
      "\n",
      " player total chips are at 0\n"
     ]
    }
   ],
   "source": [
    "while True:\n",
    "    print('welcome to Black Jack')\n",
    "    pass"
   ]
  },
  {
   "cell_type": "code",
   "execution_count": null,
   "metadata": {},
   "outputs": [],
   "source": []
  }
 ],
 "metadata": {
  "kernelspec": {
   "display_name": "Python 3 (ipykernel)",
   "language": "python",
   "name": "python3"
  },
  "language_info": {
   "codemirror_mode": {
    "name": "ipython",
    "version": 3
   },
   "file_extension": ".py",
   "mimetype": "text/x-python",
   "name": "python",
   "nbconvert_exporter": "python",
   "pygments_lexer": "ipython3",
   "version": "3.10.9"
  }
 },
 "nbformat": 4,
 "nbformat_minor": 4
}
